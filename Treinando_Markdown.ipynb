{
  "nbformat": 4,
  "nbformat_minor": 0,
  "metadata": {
    "colab": {
      "name": "Treinando Markdown.ipynb",
      "provenance": [],
      "authorship_tag": "ABX9TyMszkPeTB8Wuv99Fot2dI9n",
      "include_colab_link": true
    },
    "kernelspec": {
      "name": "python3",
      "display_name": "Python 3"
    },
    "language_info": {
      "name": "python"
    }
  },
  "cells": [
    {
      "cell_type": "markdown",
      "metadata": {
        "id": "view-in-github",
        "colab_type": "text"
      },
      "source": [
        "<a href=\"https://colab.research.google.com/github/Valmir-unicap/Treinando-Markdown/blob/main/Treinando_Markdown.ipynb\" target=\"_parent\"><img src=\"https://colab.research.google.com/assets/colab-badge.svg\" alt=\"Open In Colab\"/></a>"
      ]
    },
    {
      "cell_type": "markdown",
      "source": [],
      "metadata": {
        "id": "y_VOJgohf2vm"
      }
    },
    {
      "cell_type": "markdown",
      "source": [
        "heading\n",
        "-------\n",
        "\n",
        "conhecendo pa__ragra__fo com html.\n",
        "bfbwkbfk**nf**kqnn.\n",
        "\n",
        "> qbdbqbdklq\n",
        ">\n",
        "> bdqwqwkfwkbfk\n",
        "\n",
        "\n",
        "> wfo;hw;\n",
        ">\n",
        ">> wndhqwhfowh\n",
        "\n",
        "\n",
        "\n",
        "\n",
        "\n",
        "* biscoito recheado treloso.\n",
        "* bolacha creme cracker tradicional.\n",
        "  \n",
        "  vinho frances.\n",
        "\n",
        "* cafe com bolacha\n",
        "\n",
        "\n",
        "\n",
        "* pizza\n",
        "* hamburgue\n",
        "> batata frita\n",
        "* pastel\n",
        "\n",
        "\n",
        " ![mascote](https://harrypotter.fandom.com/pt-br/wiki/Escola_de_Magia_e_Bruxaria_de_Hogwarts.png)\n",
        "\n",
        "\n"
      ],
      "metadata": {
        "id": "Q4jj8u4GTU2c"
      }
    },
    {
      "cell_type": "markdown",
      "source": [
        "1. Pao\n",
        "2. Queijo\n",
        "3. Mortadela\n",
        "  - Pao com Mortadela\n",
        "4. Bolo\n",
        "\n",
        "```\n",
        "print(\"oi mundo\")\n",
        "```\n",
        "\n",
        "\n",
        "\n",
        "\n",
        "\n",
        "- [x] #739\n",
        "- [x] https://github.com/octo-org/octo-repo/issues/740\n",
        "- [x] Add delight to the experience when all tasks are complete :tada:\n",
        "\n",
        "\n",
        "<tomasandrade81@gmail.com>\n",
        "\n",
        "\n",
        "\n",
        "musica de **[jazz](https://www.youtube.com/watch?v=kgx4WGK0oNU)** , que som bom.\n",
        "\n",
        "![This is a alt text.](/image/sample.png \"This is a sample image.\")"
      ],
      "metadata": {
        "id": "vS-j956df2Ln"
      }
    },
    {
      "cell_type": "markdown",
      "source": [
        "\n",
        "## **Lista de filmes**\n",
        "\n",
        "| Gosto muito | Gosto pouco | mais/menos |\n",
        "| :-----------:|:-----------:|:----------:|\n",
        "| Harry Poter | Jogos vorazes | Velozes e furiosos |\n",
        "| Percy Jackson | Resident Evil | Shazam |\n",
        "| Vingadores | Homem de ferro | Thor |\n",
        "\n"
      ],
      "metadata": {
        "id": "kPCfBs1n6Rlw"
      }
    }
  ]
}